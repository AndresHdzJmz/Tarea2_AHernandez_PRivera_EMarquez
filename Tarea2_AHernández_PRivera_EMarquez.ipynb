{
 "cells": [
  {
   "cell_type": "markdown",
   "metadata": {},
   "source": [
    "<img style=\"float: left; margin: 30px 15px 15px 15px;\" src=\"https://pngimage.net/wp-content/uploads/2018/06/logo-iteso-png-5.png\" width=\"300\" height=\"500\" /> \n",
    "    \n",
    "    \n",
    "### <font color='navy'> Simulación de procesos financieros. \n",
    "\n",
    "**Nombres:** Andrés Hernández Jiménez, Pablo Alejandro Rivera Sánchez y Esteban Márquez Delgado.\n",
    "\n",
    "**Fecha:** 3 de febrero del 2021.\n",
    "\n",
    "**Expediente** :  717895, 721005, 700637.\n",
    "**Profesor:** Oscar David Jaramillo Zuluaga.\n",
    "\n",
    "**Link repositorio: https://github.com/pabloriverasnz/Tarea2_AHernandez_PRivera_EMarquez**\n",
    "\n",
    "# Tarea 2: Clase 4 "
   ]
  },
  {
   "cell_type": "code",
   "execution_count": 3,
   "metadata": {},
   "outputs": [],
   "source": [
    "import numpy as np\n",
    "import pandas as pd\n",
    "from functools import reduce\n",
    "import scipy.special as sps "
   ]
  },
  {
   "cell_type": "markdown",
   "metadata": {},
   "source": [
    "## Enunciado de tarea \n",
    "> Resolver los siguientes ejercicios:"
   ]
  },
  {
   "cell_type": "markdown",
   "metadata": {},
   "source": [
    "### Ejercicio 1"
   ]
  },
  {
   "attachments": {
    "imagen.png": {
     "image/png": "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"
    }
   },
   "cell_type": "markdown",
   "metadata": {},
   "source": [
    "1. Imagine una rutina contable utilizada en una librería. Funciona en una lista con sublistas, que se ven así:\n",
    "![imagen.png](attachment:imagen.png)\n",
    "Escriba un programa en Python, que devuelve una lista con tuplas de tamaño 2. Cada tupla consiste en el número de pedido y el costo total del pedido. El producto debe aumentarse en 10€ si el valor de la orden es inferior a 100,00 €. \n",
    "Escribe un programa Python usando unicamente las funciones **lambda y map**.\n",
    "\n",
    "`orders = [ [\"34587\", \"Learning Python, Mark Lutz\", 4, 40.95], \n",
    "           [\"98762\", \"Programming Python, Mark Lutz\", 5, 56.80], \n",
    "           [\"77226\", \"Head First Python, Paul Barry\", 3,32.95],\n",
    "           [\"88112\", \"Einführung in Python3, Bernd Klein\", 3, 24.99]]`"
   ]
  },
  {
   "cell_type": "code",
<<<<<<< HEAD
   "execution_count": 2,
=======
   "execution_count": 4,
>>>>>>> Andres
   "metadata": {},
   "outputs": [
    {
     "data": {
      "text/plain": [
       "[['34587', 'Learning Python, Mark Lutz', 4, 40.95],\n",
       " ['98762', 'Programming Python, Mark Lutz', 5, 56.8],\n",
       " ['77226', 'Head First Python, Paul Barry', 3, 32.95],\n",
       " ['88112', 'Einführung in Python3, Bernd Klein', 3, 24.99]]"
      ]
     },
<<<<<<< HEAD
     "execution_count": 2,
=======
     "execution_count": 4,
>>>>>>> Andres
     "metadata": {},
     "output_type": "execute_result"
    }
   ],
   "source": [
    "orders = [ [\"34587\", \"Learning Python, Mark Lutz\", 4, 40.95], \n",
    "           [\"98762\", \"Programming Python, Mark Lutz\", 5, 56.80], \n",
    "           [\"77226\", \"Head First Python, Paul Barry\", 3,32.95],\n",
    "           [\"88112\", \"Einführung in Python3, Bernd Klein\", 3, 24.99]]\n",
    "orders"
   ]
  },
  {
   "cell_type": "code",
<<<<<<< HEAD
   "execution_count": 3,
=======
   "execution_count": 5,
>>>>>>> Andres
   "metadata": {},
   "outputs": [
    {
     "data": {
      "text/plain": [
       "[('34587', 163.8),\n",
       " ('98762', 284.0),\n",
       " ('77226', 108.85000000000001),\n",
       " ('88112', 84.97)]"
      ]
     },
     "execution_count": 5,
     "metadata": {},
     "output_type": "execute_result"
    }
   ],
   "source": [
    "# Respuesta Andrés\n",
    "cuenta=list(map(lambda x:orders[x][2]*orders[x][3] if orders[x][2]*orders[x][3]>100 else orders[x][2]*orders[x][3]+10\n",
    "                ,range(len(orders))))\n",
    "resultado=list(map(lambda x: (orders[x][0],cuenta[x]),range(len(orders))))\n",
    "resultado"
   ]
  },
  {
   "cell_type": "markdown",
   "metadata": {},
   "source": [
    "| $$Número de Órden$$ | $$Cuenta$$ |\n",
    "|:-:|-|\n",
    "|$$34587$$ | $$163.8$$ |\n",
    "|$98762$  | $284.0$| \n",
    "|$77226$ | $108.85000000000001$|\n",
    "| $88112$ | $84.97$|\n"
   ]
  },
  {
   "cell_type": "markdown",
   "metadata": {},
   "source": [
    "Esta tabla es el resultado de un algoritmo condicional que además de agregar 10 en caso de una órden menor a 100 si no que también se adjuntaba el número de órden."
   ]
  },
  {
   "cell_type": "code",
<<<<<<< HEAD
   "execution_count": 5,
=======
   "execution_count": 6,
>>>>>>> Andres
   "metadata": {},
   "outputs": [
    {
     "data": {
      "text/plain": [
       "[('34587', 163.8),\n",
       " ('98762', 284.0),\n",
       " ('77226', 108.85000000000001),\n",
       " ('88112', 84.97)]"
      ]
     },
     "execution_count": 5,
     "metadata": {},
     "output_type": "execute_result"
    }
   ],
   "source": [
    "# Respuesta Pablo\n",
    "rfp =  list(map(lambda x: (orders[x][0], orders[x][3] * orders[x][2] + 10 if orders[x][3] * orders[x][2] < 100 else orders[x][3] * orders[x][2]), range(len(orders))))\n",
    "rfp"
   ]
  },
  {
   "cell_type": "markdown",
   "metadata": {},
   "source": [
    "El resultado de este ejercicio es la lista de tuplas anterior. Usé la función de map como iterador, esta itera simplemente sobre la longitud de la lista orders qué es 4. Se va a iterar sobre una función anónima lambda, con una sola variable x, que regresa una tupla de dos elemntos, el primero consiste en los elementos de la primer columna (se itera en la fila con la variable x) y el segundo consiste en la multiplicación del precio por la cantidad (igual se itera por cada fila) más una condición que nos pide el problema."
   ]
  },
  {
   "cell_type": "code",
   "execution_count": 7,
   "metadata": {},
   "outputs": [],
   "source": [
    "# Respuesta Esteban"
   ]
  },
  {
   "cell_type": "code",
   "execution_count": null,
   "metadata": {},
   "outputs": [],
   "source": []
  },
  {
   "cell_type": "markdown",
   "metadata": {},
   "source": [
    "### Ejercicio 2"
   ]
  },
  {
   "cell_type": "markdown",
   "metadata": {},
   "source": [
    "2. La misma librería, pero esta vez trabajamos en una lista diferente. Las sublistas de nuestras listas se ven así: \n",
    "[número de orden, (número de artículo, cantidad, precio por unidad), ... (número de artículo, cantidad, precio por unidad)] \n",
    "\n",
    "`orders = [[1, (\"5464\", 4, 9.99), (\"8274\",18,12.99), (\"9744\", 9, 44.95)], \n",
    "\t       [2, (\"5464\", 9, 9.99), (\"9744\", 9, 44.95)],\n",
    "\t       [3, (\"5464\", 9, 9.99), (\"88112\", 11, 24.99)],\n",
    "           [4, (\"8732\", 7, 11.99), (\"7733\",11,18.99), (\"88112\", 5, 39.95)] ]`\n",
    "\n",
    "Escriba un programa que devuelva una lista de dos tuplas que tengan la información de (número de pedido, cantidad total de pedido). Utilice la función `Reduce`. Recuerde el precio del pedido del producto debe aumentarse en 10€ si el valor de la orden es inferior a 100,00 €."
   ]
  },
  {
   "cell_type": "code",
   "execution_count": 8,
   "metadata": {},
   "outputs": [
    {
     "data": {
      "text/plain": [
       "[[1, ('5464', 4, 9.99), ('8274', 18, 12.99), ('9744', 9, 44.95)],\n",
       " [2, ('5464', 9, 9.99), ('9744', 9, 44.95)],\n",
       " [3, ('5464', 9, 9.99), ('88112', 11, 24.99)],\n",
       " [4, ('8732', 7, 11.99), ('7733', 11, 18.99), ('88112', 5, 39.95)]]"
      ]
     },
     "execution_count": 8,
     "metadata": {},
     "output_type": "execute_result"
    }
   ],
   "source": [
    "orders2 = [[1, (\"5464\", 4, 9.99), (\"8274\",18,12.99), (\"9744\", 9, 44.95)], \n",
    "           [2, (\"5464\", 9, 9.99), (\"9744\", 9, 44.95)],\n",
    "           [3, (\"5464\", 9, 9.99), (\"88112\", 11, 24.99)],\n",
    "           [4, (\"8732\", 7, 11.99), (\"7733\",11,18.99), (\"88112\", 5, 39.95)] ]\n",
    "orders2"
   ]
  },
  {
   "cell_type": "code",
<<<<<<< HEAD
   "execution_count": 7,
=======
   "execution_count": 31,
>>>>>>> Andres
   "metadata": {},
   "outputs": [
    {
     "data": {
      "text/plain": [
       "[(1, 688.3299999999999),\n",
       " (2, 504.46000000000004),\n",
       " (3, 374.79999999999995),\n",
       " (4, 502.57)]"
      ]
     },
     "execution_count": 31,
     "metadata": {},
     "output_type": "execute_result"
    }
   ],
   "source": [
    "# Respuesta Andrés\n",
    "orders_2=list(map(lambda x:(x[0],reduce(lambda x,y:x+y,list(map(lambda x:x[1]*x[2] if x[1]*x[2] >100 else x[1]*x[2]+10, x[1:])))),orders2))\n",
    "orders_2"
   ]
  },
  {
   "cell_type": "markdown",
   "metadata": {},
   "source": [
    "| $$Órden$$ | $$Total$$ |\n",
    "|:-:|-|\n",
    "|$$1$$ | $$688.3299$$ |\n",
    "|$2$  | $504.4600$| \n",
    "|$3$ | $374.7999$|\n",
    "| $4$ | $502.57$|\n"
   ]
  },
  {
   "cell_type": "markdown",
   "metadata": {},
   "source": [
    "En esta tabla trabajamos el mismo condicional la diferencia es que esto presenta tambien la órden que representa dejando atras títulos y toda información innecesaria."
   ]
  },
  {
   "cell_type": "code",
<<<<<<< HEAD
   "execution_count": 8,
=======
   "execution_count": 10,
>>>>>>> Andres
   "metadata": {},
   "outputs": [
    {
     "data": {
      "text/plain": [
       "[(1, 688.3299999999999),\n",
       " (2, 504.46000000000004),\n",
       " (3, 374.79999999999995),\n",
       " (4, 502.57)]"
      ]
     },
     "execution_count": 8,
     "metadata": {},
     "output_type": "execute_result"
    }
   ],
   "source": [
    "# Respuesta Pablo\n",
    "rf2p = list(map(lambda x: ((x[0]), reduce(lambda z, w: z + w, list(map(lambda y: y[1] * y[2] + 10 if y[1] * y[2] < 100 else y[1] * y[2], x[1:])))), orders2))\n",
    "rf2p"
   ]
  },
  {
   "cell_type": "markdown",
   "metadata": {},
   "source": [
    "El resultado del ejercicio es nuevamente la lista de tuplas anterior. Una parte clave del mismo fue la función reduce la cual se va recorriendo sobre los valores especificados y hace lo que le pidamos, en este caso una suma de dichos valores. "
   ]
  },
  {
   "cell_type": "code",
   "execution_count": 11,
   "metadata": {},
   "outputs": [],
   "source": [
    "# Respuesta Esteban"
   ]
  },
  {
   "cell_type": "code",
   "execution_count": null,
   "metadata": {},
   "outputs": [],
   "source": []
  },
  {
   "cell_type": "markdown",
   "metadata": {},
   "source": [
    "### Ejercicio 3"
   ]
  },
  {
   "cell_type": "markdown",
   "metadata": {},
   "source": [
    "3. Resolver los anteriores ejercicios usando pandas (DataFrame)"
   ]
  },
  {
   "cell_type": "code",
   "execution_count": 30,
   "metadata": {},
   "outputs": [
    {
     "data": {
      "text/plain": [
       "[('34587', 163.8),\n",
       " ('98762', 284.0),\n",
       " ('77226', 108.85000000000001),\n",
       " ('88112', 84.97)]"
      ]
     },
     "execution_count": 30,
     "metadata": {},
     "output_type": "execute_result"
    }
   ],
   "source": [
    "# Respuesta Andrés\n",
    "df = pd.DataFrame(orders, columns = ['Órden','Libro','Cantidad','Precio']).set_index('Órden')\n",
    "\n",
    "df2 =  list(map(lambda x: (df.index[x], df.iloc[x,2] * df.iloc[x,1] + 10 if df.iloc[x,2] * df.iloc[x,1] < 100 else df.iloc[x,2] * df.iloc[x,1]), range(len(df))))\n",
    "df2"
   ]
  },
  {
   "cell_type": "markdown",
   "metadata": {},
   "source": [
    "| $$Número de Órden$$ | $$Cuenta$$ |\n",
    "|:-:|-|\n",
    "|$$34587$$ | $$163.8$$ |\n",
    "|$98762$  | $284.0$| \n",
    "|$77226$ | $108.85$|\n",
    "| $88112$ | $84.97$|\n"
   ]
  },
  {
   "cell_type": "markdown",
   "metadata": {},
   "source": [
    "Esta tabla es el resultado de un algoritmo condicional que además de agregar 10 en caso de una órden menor a 100 si no que también se adjuntaba el número de órden."
   ]
  },
  {
   "cell_type": "code",
   "execution_count": 13,
   "metadata": {},
   "outputs": [
    {
     "data": {
      "text/plain": [
       "[('34587', 163.8),\n",
       " ('98762', 284.0),\n",
       " ('77226', 108.85000000000001),\n",
       " ('88112', 84.97)]"
      ]
     },
     "execution_count": 9,
     "metadata": {},
     "output_type": "execute_result"
    }
   ],
   "source": [
    "# Respuesta Pablo\n",
    "orders_p = pd.DataFrame(orders, columns = ['Órden','Libro','Cantidad','Precio']).set_index('Órden')\n",
    "\n",
    "r3p =  list(map(lambda x: (orders_p.index[x], orders_p.iloc[x,2] * orders_p.iloc[x,1] + 10 if orders_p.iloc[x,2] * orders_p.iloc[x,1] < 100 else orders_p.iloc[x,2] * orders_p.iloc[x,1]), range(len(orders_p))))\n",
    "r3p"
   ]
  },
  {
   "cell_type": "code",
   "execution_count": 25,
   "metadata": {},
   "outputs": [
    {
     "data": {
      "text/plain": [
       "[(1, 688.3299999999999),\n",
       " (2, 504.46000000000004),\n",
       " (3, 374.79999999999995),\n",
       " (4, 502.57)]"
      ]
     },
     "execution_count": 25,
     "metadata": {},
     "output_type": "execute_result"
    }
   ],
   "source": [
    "orders_p2 = pd.DataFrame(orders2, columns = ['Órden','Libro','Cantidad','Precio']).set_index('Órden')\n",
    "orders_p2.fillna(value = np.nan, inplace = True)\n",
    "orders_p2 = orders_p2.applymap(lambda x: (0,0,0) if x is np.nan else x)\n",
    "\n",
    "r32p = list(map(lambda x: (x, reduce(lambda z, w: z + w, \n",
    "                    list(map(lambda y: orders_p2[y][x][1] * orders_p2[y][x][2] + 10 \n",
    "                             if 0 < orders_p2[y][x][1] * orders_p2[y][x][2] <= 100 \n",
    "                             else orders_p2[y][x][1] * orders_p2[y][x][2], \n",
    "                             orders_p2.columns.values)))), orders_p2.index))\n",
    "r32p"
   ]
  },
  {
   "cell_type": "markdown",
   "metadata": {},
   "source": [
    "Estos son ambos resultados del ejercicio 1 y 2 usando DataFrames. El primero estuvo relativamente sencillo ya teniendo el código del ejercicio 1, solamente se usa iloc para seleccionar los datos requeridos. En cuanto al ejercicio 2 con pandas, este se me hizo mucho más complicado. Lo que terminé haciendo fue primero poner nan en donde faltaban datos y después reemplazarlos con una tupla de 3 ceros, posteriormente, el código es parecido al del ejercicio 2 solamente que se acceden de manera diferente a los datos. Para tomar el número de orden simplemente se uso el index, tomar los valores dentro de las tuplas se volvió algo complicado, en este caso accedo a ellos a través de la iteración sobre las columnas (y), aparte se itera sobre todas las filas (x) y va tomando el valor 1 y 2 para multiplicarlos. Después de tener acceso a todos los datos simplemente se agregó la condición y la función reduce para sumarlos. "
   ]
  },
  {
   "cell_type": "code",
   "execution_count": 14,
   "metadata": {},
   "outputs": [],
   "source": [
    "# Respuesta Esteban"
   ]
  },
  {
   "cell_type": "code",
   "execution_count": null,
   "metadata": {},
   "outputs": [],
   "source": []
  },
  {
   "cell_type": "markdown",
   "metadata": {},
   "source": [
    "### Ejercicio 4"
   ]
  },
  {
   "cell_type": "markdown",
   "metadata": {},
   "source": [
    "4. Use filter to eliminate all words that are shorter than 4 letters from a list of words\n",
    "`list='the notion of a lambda function goes all the way back to the origin of computer science'`"
   ]
  },
  {
   "cell_type": "code",
<<<<<<< HEAD
   "execution_count": 11,
=======
   "execution_count": 15,
>>>>>>> Andres
   "metadata": {},
   "outputs": [],
   "source": [
    "lista = 'the notion of a lambda function goes all the way back to the origin of computer science'"
   ]
  },
  {
   "cell_type": "code",
   "execution_count": 16,
   "metadata": {},
   "outputs": [
    {
     "data": {
      "text/plain": [
       "['notion',\n",
       " 'lambda',\n",
       " 'function',\n",
       " 'goes',\n",
       " 'back',\n",
       " 'origin',\n",
       " 'computer',\n",
       " 'science']"
      ]
     },
     "execution_count": 16,
     "metadata": {},
     "output_type": "execute_result"
    }
   ],
   "source": [
    "# Respuesta Andrés\n",
    "lista = 'the notion of a lambda function goes all the way back to the origin of computer science'\n",
    "list(filter(lambda x:len(x)>=4,lista.split()))"
   ]
  },
  {
   "cell_type": "markdown",
   "metadata": {},
   "source": [
    "| Words | 1 | 2 | 3 | 4 | 5 | 6 | 7 | 8 | 9 |\n",
    "|:-:|-|-|-|-|-|-|-|-|-|\n",
    "| $$<4 letters $$ | notion | lambda | function | goes | back | origin | computer |"
   ]
  },
  {
   "cell_type": "markdown",
   "metadata": {},
   "source": [
    "En este resultado lo que damos a resaltar es como la función filter nos devolvió todas las palabras mayores a 4 letras."
   ]
  },
  {
   "cell_type": "code",
<<<<<<< HEAD
   "execution_count": 13,
=======
   "execution_count": 17,
>>>>>>> Andres
   "metadata": {},
   "outputs": [
    {
     "data": {
      "text/plain": [
       "['notion',\n",
       " 'lambda',\n",
       " 'function',\n",
       " 'goes',\n",
       " 'back',\n",
       " 'origin',\n",
       " 'computer',\n",
       " 'science']"
      ]
     },
     "execution_count": 13,
     "metadata": {},
     "output_type": "execute_result"
    }
   ],
   "source": [
    "# Respuesta Pablo\n",
    "r4p = list(filter(lambda x: len(x) >= 4, lista.split()))\n",
    "r4p"
   ]
  },
  {
   "cell_type": "code",
   "execution_count": 14,
   "metadata": {},
   "outputs": [
    {
     "data": {
      "text/plain": [
       "['notion',\n",
       " 'lambda',\n",
       " 'function',\n",
       " 'goes',\n",
       " 'back',\n",
       " 'origin',\n",
       " 'computer',\n",
       " 'science']"
      ]
     },
     "execution_count": 14,
     "metadata": {},
     "output_type": "execute_result"
    }
   ],
   "source": [
    "r42p = [i for i in lista.split() if len(i) >= 4]\n",
    "r42p"
   ]
  },
  {
   "cell_type": "markdown",
   "metadata": {},
   "source": [
    "El resultado de este ejrecicio es una lista de palabras que cumplen con la condición que le indicamos, que su longitud sea mayor o igual a 4. Se usó la función filter, pusimos la condición y esta no devolvía los valores que True que cumplieran con la misma, revisa la condición sobre las palabras de la lista. Como extra, lo hice también con compesión de listas para ver si salía y si funcionó. "
   ]
  },
  {
   "cell_type": "code",
   "execution_count": 18,
   "metadata": {},
   "outputs": [],
   "source": [
    "# Respuesta Esteban"
   ]
  },
  {
   "cell_type": "code",
   "execution_count": null,
   "metadata": {},
   "outputs": [],
   "source": []
  },
  {
   "cell_type": "markdown",
   "metadata": {},
   "source": [
    "### Ejercicio 5"
   ]
  },
  {
   "cell_type": "markdown",
   "metadata": {},
   "source": [
    "5. Use filter to determine the percentage of Fahrenheit temperatures in a list are within the range 32 to 80"
   ]
  },
  {
   "cell_type": "code",
<<<<<<< HEAD
   "execution_count": 16,
=======
   "execution_count": 19,
>>>>>>> Andres
   "metadata": {},
   "outputs": [
    {
     "name": "stdout",
     "output_type": "stream",
     "text": [
      "[ 35.97387961  99.13294268  92.6178302   99.69549478  63.21119535\n",
      "  73.90387697  95.50028838  99.21476553  36.98251238 101.45813729\n",
      " 100.5917418   89.38159435  89.52156589  83.8084752   28.37990868\n",
      "  68.75395211  45.86132067  36.58307493  56.32208365  33.96219302\n",
      "  45.29071318  74.86289938  66.51091383  88.19316186  94.26635864\n",
      "  46.83131624 109.60744472 109.68427993  44.55796499  92.84146259]\n"
     ]
    }
   ],
   "source": [
    "np.random.seed(55555)\n",
    "temperatures = np.random.uniform(25,110,30)\n",
    "print(temperatures)"
   ]
  },
  {
   "cell_type": "code",
<<<<<<< HEAD
   "execution_count": 17,
=======
   "execution_count": 20,
>>>>>>> Andres
   "metadata": {},
   "outputs": [
    {
     "data": {
      "text/plain": [
       "0.4666666666666667"
      ]
     },
     "execution_count": 20,
     "metadata": {},
     "output_type": "execute_result"
    }
   ],
   "source": [
    "# Respuesta Andrés\n",
    "temperaturas=len(list(filter(lambda x:32<=x<=80,temperatures)))/len (temperatures)\n",
    "temperaturas"
   ]
  },
  {
   "cell_type": "markdown",
   "metadata": {},
   "source": [
    "$$46.66$$%"
   ]
  },
  {
   "cell_type": "markdown",
   "metadata": {},
   "source": [
    "Aquí se representa en porcentaje la cantidad de temperaturas filtradas que contaban con la condición de rango 32 a 80."
   ]
  },
  {
   "cell_type": "code",
<<<<<<< HEAD
   "execution_count": 18,
=======
   "execution_count": 21,
>>>>>>> Andres
   "metadata": {},
   "outputs": [
    {
     "data": {
      "text/plain": [
       "[35.97387961379455,\n",
       " 63.211195349983264,\n",
       " 73.90387696517755,\n",
       " 36.982512376595906,\n",
       " 68.75395211338406,\n",
       " 45.86132066984196,\n",
       " 36.58307493022292,\n",
       " 56.322083650154724,\n",
       " 33.9621930206693,\n",
       " 45.29071317816652,\n",
       " 74.86289938282341,\n",
       " 66.51091382521807,\n",
       " 46.831316244170544,\n",
       " 44.55796498523391]"
      ]
     },
     "execution_count": 18,
     "metadata": {},
     "output_type": "execute_result"
    }
   ],
   "source": [
    "# Respuesta Pablo\n",
    "temperp = list(filter(lambda x: 32 <= x <= 80, temperatures))\n",
    "temperp"
   ]
  },
  {
   "cell_type": "markdown",
   "metadata": {},
   "source": [
    "El resultado nos devuelve una lista con todas las temperaturas mayores a 32ºF y menores a 80ºF. Nuevamente usamos la función filter para que nos devolviera los valores en la variable temperatures que cumplieran con la condición indicada (ayor a 32 y menor que 80. "
   ]
  },
  {
   "cell_type": "code",
   "execution_count": 22,
   "metadata": {},
   "outputs": [],
   "source": [
    "# Respuesta Esteban"
   ]
  },
  {
   "cell_type": "code",
   "execution_count": null,
   "metadata": {},
   "outputs": [],
   "source": []
  },
  {
   "cell_type": "markdown",
   "metadata": {},
   "source": [
    "### Ejercicio 6"
   ]
  },
  {
   "cell_type": "markdown",
   "metadata": {},
   "source": [
    "6. Use reduce to find the lower left corner (minimum x and minimum y value) for a list of point locations\n",
    "> **Hint**: Explore the command `np.minimum.reduce` [link](https://docs.scipy.org/doc/numpy/reference/generated/numpy.ufunc.reduce.html)"
   ]
  },
  {
   "cell_type": "code",
<<<<<<< HEAD
   "execution_count": 19,
   "metadata": {},
   "outputs": [
    {
     "name": "stdout",
     "output_type": "stream",
     "text": [
      "[[17 97]\n",
      " [22 33]\n",
      " [37 46]\n",
      " [57 28]\n",
      " [11 25]\n",
      " [14  2]\n",
      " [74 16]\n",
      " [12 37]\n",
      " [35 21]\n",
      " [66 65]\n",
      " [86 58]\n",
      " [67 81]\n",
      " [ 0 48]\n",
      " [28 66]\n",
      " [76 22]\n",
      " [46 47]\n",
      " [64  7]\n",
      " [88 94]\n",
      " [65 13]\n",
      " [75 89]\n",
      " [23 17]\n",
      " [36 63]\n",
      " [62 36]\n",
      " [64 17]\n",
      " [18 19]\n",
      " [88 41]\n",
      " [21 49]\n",
      " [98 36]\n",
      " [81 73]\n",
      " [62 90]]\n"
     ]
    }
   ],
   "source": [
    "np.random.seed(55555)\n",
    "point_xy = np.random.randint(0,100,[30,2])\n",
    "print(point_xy)"
   ]
  },
  {
   "cell_type": "code",
   "execution_count": 12,
=======
   "execution_count": 23,
>>>>>>> Andres
   "metadata": {},
   "outputs": [
    {
     "name": "stdout",
     "output_type": "stream",
     "text": [
      "[[17 97]\n",
      " [22 33]\n",
      " [37 46]\n",
      " [57 28]\n",
      " [11 25]\n",
      " [14  2]\n",
      " [74 16]\n",
      " [12 37]\n",
      " [35 21]\n",
      " [66 65]\n",
      " [86 58]\n",
      " [67 81]\n",
      " [ 0 48]\n",
      " [28 66]\n",
      " [76 22]\n",
      " [46 47]\n",
      " [64  7]\n",
      " [88 94]\n",
      " [65 13]\n",
      " [75 89]\n",
      " [23 17]\n",
      " [36 63]\n",
      " [62 36]\n",
      " [64 17]\n",
      " [18 19]\n",
      " [88 41]\n",
      " [21 49]\n",
      " [98 36]\n",
      " [81 73]\n",
      " [62 90]]\n"
     ]
    }
   ],
   "source": [
    "np.random.seed(55555)\n",
    "point_xy = np.random.randint(0,100,[30,2])\n",
    "print(point_xy)"
   ]
  },
  {
   "cell_type": "code",
   "execution_count": 24,
   "metadata": {},
   "outputs": [
    {
     "data": {
      "text/plain": [
       "array([0, 2])"
      ]
     },
     "execution_count": 24,
     "metadata": {},
     "output_type": "execute_result"
    }
   ],
   "source": [
    "# Respuesta Andrés\n",
    "np.minimum.reduce(point_xy)"
   ]
  },
  {
   "cell_type": "markdown",
   "metadata": {},
   "source": [
    "| Words | Left | Right |\n",
    "|:-:|-|-|\n",
    "| $$Minimum Value $$ | $$0$$ | $$2$$|"
   ]
  },
  {
   "cell_type": "markdown",
   "metadata": {},
   "source": [
    "Esta tabla nos indica que valor es el mínimo en cada columna de información, esto sería sumamente útil cuando se manejan cantidades de datos que no son posibles contar manualmente."
   ]
  },
  {
   "cell_type": "code",
<<<<<<< HEAD
   "execution_count": 24,
=======
   "execution_count": 25,
>>>>>>> Andres
   "metadata": {},
   "outputs": [
    {
     "data": {
      "text/plain": [
       "array([0, 2])"
      ]
     },
     "execution_count": 24,
     "metadata": {},
     "output_type": "execute_result"
    }
   ],
   "source": [
    "# Respuesta Pablo\n",
    "np.minimum.reduce(point_xy)"
   ]
  },
  {
   "cell_type": "markdown",
   "metadata": {},
   "source": [
    "El resultado nos devuelve el valor más pequeño de la columna izquiera (x) y de la derecha (y). Esta función se aplica a cada axis de manera individual, minimum solamente nos selecciona el valor mínimo de este axis (hay otras funciones como multiply) y según entendi es algo parecida a reduce en cuanto a que se mueve y compara sobre cada valor. "
   ]
  },
  {
   "cell_type": "code",
   "execution_count": 26,
   "metadata": {},
   "outputs": [],
   "source": [
    "# Respuesta Esteban"
   ]
  },
  {
   "cell_type": "code",
   "execution_count": null,
   "metadata": {},
   "outputs": [],
   "source": []
  },
  {
   "cell_type": "markdown",
   "metadata": {},
   "source": [
    "### Ejercicio Extra"
   ]
  },
  {
   "cell_type": "markdown",
   "metadata": {},
   "source": [
    "### Ejercicio: Vectorizar distribución de poisson\n",
    "$$\\textbf{Función de densidad de probabilidad}\\\\p(k)=\\frac{\\lambda^k e^{-\\lambda}}{k!},\\quad k\\in \\mathbb{N}$$"
   ]
  },
  {
   "cell_type": "code",
   "execution_count": 27,
   "metadata": {},
   "outputs": [],
   "source": [
    "# Respuesta Andrés"
   ]
  },
  {
   "cell_type": "code",
   "execution_count": null,
   "metadata": {},
   "outputs": [],
   "source": []
  },
  {
   "cell_type": "code",
   "execution_count": 28,
   "metadata": {},
   "outputs": [],
   "source": [
    "# Respuesta Pablo"
   ]
  },
  {
   "cell_type": "code",
   "execution_count": null,
   "metadata": {},
   "outputs": [],
   "source": []
  },
  {
   "cell_type": "code",
   "execution_count": 29,
   "metadata": {},
   "outputs": [],
   "source": [
    "# Respuesta Esteban"
   ]
  },
  {
   "cell_type": "code",
   "execution_count": null,
   "metadata": {},
   "outputs": [],
   "source": []
  }
 ],
 "metadata": {
  "kernelspec": {
   "display_name": "Python 3",
   "language": "python",
   "name": "python3"
  },
  "language_info": {
   "codemirror_mode": {
    "name": "ipython",
    "version": 3
   },
   "file_extension": ".py",
   "mimetype": "text/x-python",
   "name": "python",
   "nbconvert_exporter": "python",
   "pygments_lexer": "ipython3",
   "version": "3.7.4"
  }
 },
 "nbformat": 4,
 "nbformat_minor": 4
}
